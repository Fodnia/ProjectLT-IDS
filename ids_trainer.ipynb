{
  "nbformat": 4,
  "nbformat_minor": 0,
  "metadata": {
    "colab": {
      "provenance": [],
      "machine_shape": "hm"
    },
    "kernelspec": {
      "name": "python3",
      "display_name": "Python 3"
    },
    "language_info": {
      "name": "python"
    }
  },
  "cells": [
    {
      "cell_type": "markdown",
      "source": [
        "# LT-IDS Trainer"
      ],
      "metadata": {
        "id": "b6yOAvXE4keH"
      }
    },
    {
      "cell_type": "code",
      "source": [
        "import glob\n",
        "import pandas as pd\n",
        "from tqdm import tqdm\n",
        "from sklearn.model_selection import train_test_split\n",
        "from sklearn.tree import DecisionTreeClassifier\n",
        "from sklearn.metrics import classification_report, confusion_matrix\n",
        "from sklearn.experimental import enable_halving_search_cv\n",
        "from sklearn.model_selection import HalvingGridSearchCV\n",
        "import joblib"
      ],
      "metadata": {
        "id": "kWaPlB3C9cuz"
      },
      "execution_count": null,
      "outputs": []
    },
    {
      "cell_type": "code",
      "source": [
        "FEATURES = [\n",
        "    'Init_Win_bytes_forward',\n",
        "    'Destination Port',\n",
        "    'Packet Length Variance',\n",
        "    'Average Packet Size',\n",
        "    'Packet Length Std',\n",
        "    'Max Packet Length',\n",
        "    'Subflow Fwd Bytes',\n",
        "    'Bwd Packet Length Max',\n",
        "    'Fwd Packet Length Mean',\n",
        "    'Bwd Packet Length Mean',\n",
        "    'Fwd Packet Length Min',\n",
        "    'Bwd Packet Length Std',\n",
        "    'Bwd Packet Length Min',\n",
        "    'Init_Win_bytes_backward',\n",
        "    'Fwd Packet Length Std',\n",
        "    'Packet Length Mean',\n",
        "    'Fwd Header Length',\n",
        "    'Fwd Packet Length Max',\n",
        "    'Fwd Header Length.1',\n",
        "    'Bwd Header Length'\n",
        "]\n",
        "EXTRA = [\"Label\"]"
      ],
      "metadata": {
        "id": "7vIpVMmp9gvg"
      },
      "execution_count": null,
      "outputs": []
    },
    {
      "cell_type": "code",
      "source": [
        "files = glob.glob(\"/content/drive/MyDrive/CSV2017/*.csv\")\n",
        "df_list = []\n",
        "for path in tqdm(files, desc=\"Loading CSVs\"):\n",
        "    df_chunk = pd.read_csv(\n",
        "        path,\n",
        "        usecols=FEATURES + EXTRA,\n",
        "        skipinitialspace=True,\n",
        "        na_values=[\"NaN\", \"Infinity\"],\n",
        "        low_memory=False\n",
        "    )\n",
        "    df_list.append(df_chunk)\n",
        "df = pd.concat(df_list, ignore_index=True)"
      ],
      "metadata": {
        "id": "-d0nWt419lbo"
      },
      "execution_count": null,
      "outputs": []
    },
    {
      "cell_type": "code",
      "source": [
        "df = df[df[\"Label\"] != \"Label\"]\n",
        "df[FEATURES] = df[FEATURES].apply(pd.to_numeric, errors=\"coerce\")\n",
        "df[\"y\"] = (df[\"Label\"] != \"BENIGN\").astype(int)"
      ],
      "metadata": {
        "id": "2Up94lR49o5d"
      },
      "execution_count": null,
      "outputs": []
    },
    {
      "cell_type": "code",
      "source": [
        "X = df[FEATURES]\n",
        "y = df[\"y\"]\n",
        "X_train, X_test, y_train, y_test = train_test_split(\n",
        "    X, y, test_size=0.2, stratify=y, random_state=42\n",
        ")\n",
        "clf = DecisionTreeClassifier(max_depth=5, random_state=42)\n",
        "clf.fit(X_train, y_train)"
      ],
      "metadata": {
        "id": "OIoafetY9rxA"
      },
      "execution_count": null,
      "outputs": []
    },
    {
      "cell_type": "code",
      "source": [
        "y_pred = clf.predict(X_test)\n",
        "print(classification_report(y_test, y_pred, digits=4))\n",
        "print(confusion_matrix(y_test, y_pred))"
      ],
      "metadata": {
        "id": "uA4OTZvd9uIb"
      },
      "execution_count": null,
      "outputs": []
    },
    {
      "cell_type": "code",
      "source": [
        "param_grid = {\n",
        "    \"max_depth\":        [5, 10, 15, None],\n",
        "    \"min_samples_leaf\": [1, 5, 10],\n",
        "    \"class_weight\":     [{0:1,1:w} for w in [1, 2, 5]]\n",
        "}\n",
        "\n",
        "halving_cv = HalvingGridSearchCV(\n",
        "    DecisionTreeClassifier(random_state=42),\n",
        "    param_grid,\n",
        "    factor=3,\n",
        "    resource=\"n_samples\",\n",
        "    scoring=\"f1\",\n",
        "    cv=3,\n",
        "    n_jobs=-1,\n",
        "    random_state=42,\n",
        "    verbose=1\n",
        ")\n",
        "halving_cv.fit(X_train, y_train)\n",
        "\n",
        "print(\"Best params:\", halving_cv.best_params_)\n",
        "best_dt = halving_cv.best_estimator_\n",
        "print(classification_report(y_test, best_dt.predict(X_test), digits=4))"
      ],
      "metadata": {
        "id": "IfoQjnMUcVxX"
      },
      "execution_count": null,
      "outputs": []
    },
    {
      "cell_type": "code",
      "source": [
        "joblib.dump(best_dt, \"dtthree_ids_trained.joblib\")"
      ],
      "metadata": {
        "id": "cHLbsBo9lLM3"
      },
      "execution_count": null,
      "outputs": []
    }
  ]
}